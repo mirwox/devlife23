{
 "cells": [
  {
   "cell_type": "markdown",
   "id": "8ca1d38b-1e3e-42ef-a188-2158e755d9e8",
   "metadata": {
    "tags": []
   },
   "source": [
    "# Classes e Objetos"
   ]
  },
  {
   "cell_type": "markdown",
   "id": "6a4d3427-64c7-4158-9c89-dc32e5b03ce7",
   "metadata": {},
   "source": [
    "### Exemplo de uma classe\n",
    "\n",
    "Criamos uma classe para representar contas bancárias, com os seguintes atribuitos: \n",
    "* titular - nome da pessoa titular da conta\n",
    "* saldo - saldo da conta\n",
    "* id - o número da conta\n",
    "\n",
    "Inserimos ainda métodos chamados `deposita` e `descreve`.\n",
    "\n",
    "O atributo `titular` vai ser de objetos da classe *Pessoa*"
   ]
  },
  {
   "cell_type": "code",
   "execution_count": 33,
   "id": "769a3a36-2e76-4cbd-b272-964881b62771",
   "metadata": {},
   "outputs": [],
   "source": [
    "class Conta(object):\n",
    "    def __init__(self, dono: Pessoa,  numero: str, saldo = 0):\n",
    "        self.titular = dono\n",
    "        self.saldo = saldo\n",
    "        self.id = numero\n",
    "    \n",
    "    def deposita(self, valor):\n",
    "        if valor > 0:\n",
    "            self.saldo += valor\n",
    "            \n",
    "    def descreve(self):\n",
    "        print(f\"Conta {self.id} da titular {self.titular} com saldo de {self.saldo}\")\n",
    "            \n",
    "\n",
    "class Pessoa(object):\n",
    "    def __init__(self, nome, RG):\n",
    "        self.nome = nome\n",
    "        self.RG = RG \n",
    "    \n",
    "    def __str__(self):\n",
    "        return self.nome\n",
    "\n",
    "class ContaInvestimento(Conta):\n",
    "    def __init__(self):\n",
    "        __super__.__init__()\n",
    "\n"
   ]
  },
  {
   "cell_type": "markdown",
   "id": "45a43d6f-87cc-4a72-a044-5c0ff570db8f",
   "metadata": {},
   "source": [
    "### Como usar a classe\n",
    "\n",
    "Criando objetos"
   ]
  },
  {
   "cell_type": "code",
   "execution_count": 31,
   "id": "b7e97b85-2874-458f-a03f-2d7022c7f765",
   "metadata": {},
   "outputs": [],
   "source": [
    "maria = Pessoa(\"Maria 1\", \"581176173491\")\n",
    "gabriel = Pessoa(\"Gabriel 3\", \"98181998\")\n",
    "\n",
    "c1 = Conta(maria,  \"7878-7\", 1000)\n",
    "c2 = Conta(gabriel, \"1539-9\")"
   ]
  },
  {
   "cell_type": "markdown",
   "id": "28205363-01a4-4b8d-a720-1df95a4f006f",
   "metadata": {},
   "source": [
    "### Acessando atributos\n",
    "\n",
    "Para acessar atributos usamos o operador $\\cdot$ : "
   ]
  },
  {
   "cell_type": "code",
   "execution_count": 34,
   "id": "69c2d193-88ea-448a-b1ab-a3cb87f7611e",
   "metadata": {},
   "outputs": [],
   "source": [
    "c1.saldo = 700\n",
    "\n",
    "c2.saldo -=50"
   ]
  },
  {
   "cell_type": "markdown",
   "id": "21e54fbd-a759-48ca-ac01-c6692207e2e7",
   "metadata": {},
   "source": [
    "### Chamando métodos\n",
    "\n",
    "As funções que pertencem às classes são chamadas de *métodos*"
   ]
  },
  {
   "cell_type": "code",
   "execution_count": 29,
   "id": "4f71e38b-ce10-4cd4-a0c6-f932d103425b",
   "metadata": {},
   "outputs": [
    {
     "name": "stdout",
     "output_type": "stream",
     "text": [
      "Conta 7878-7 da titular Maria 1 com saldo de 1000\n"
     ]
    }
   ],
   "source": [
    "c1.descreve()"
   ]
  },
  {
   "cell_type": "markdown",
   "id": "c69b519a-4e03-4fd8-9fe4-9c9c15078993",
   "metadata": {},
   "source": [
    "## Dicas\n",
    "\n",
    "### dir\n",
    "\n",
    "O comando 'dir'  retorna uma lista de tudo que existe na classe"
   ]
  },
  {
   "cell_type": "code",
   "execution_count": 12,
   "id": "9c7d8505-1e71-4fbc-b688-86bd06359788",
   "metadata": {},
   "outputs": [],
   "source": [
    "c1.deposita(150)"
   ]
  },
  {
   "cell_type": "code",
   "execution_count": 13,
   "id": "b9af3dfd-82c5-4c17-8426-64303db5accc",
   "metadata": {},
   "outputs": [
    {
     "name": "stdout",
     "output_type": "stream",
     "text": [
      "1150\n"
     ]
    }
   ],
   "source": [
    "print(c1.saldo)"
   ]
  },
  {
   "cell_type": "code",
   "execution_count": 15,
   "id": "d5626c75-ef75-4162-b3c7-c9b2307adcb1",
   "metadata": {},
   "outputs": [
    {
     "data": {
      "text/plain": [
       "['__class__',\n",
       " '__delattr__',\n",
       " '__dict__',\n",
       " '__dir__',\n",
       " '__doc__',\n",
       " '__eq__',\n",
       " '__format__',\n",
       " '__ge__',\n",
       " '__getattribute__',\n",
       " '__gt__',\n",
       " '__hash__',\n",
       " '__init__',\n",
       " '__init_subclass__',\n",
       " '__le__',\n",
       " '__lt__',\n",
       " '__module__',\n",
       " '__ne__',\n",
       " '__new__',\n",
       " '__reduce__',\n",
       " '__reduce_ex__',\n",
       " '__repr__',\n",
       " '__setattr__',\n",
       " '__sizeof__',\n",
       " '__str__',\n",
       " '__subclasshook__',\n",
       " '__weakref__',\n",
       " 'banana',\n",
       " 'deposita',\n",
       " 'id',\n",
       " 'saldo',\n",
       " 'titular']"
      ]
     },
     "execution_count": 15,
     "metadata": {},
     "output_type": "execute_result"
    }
   ],
   "source": [
    "dir(c1)"
   ]
  },
  {
   "cell_type": "markdown",
   "id": "b53db667-a3d2-4645-b673-8b47847395f0",
   "metadata": {},
   "source": [
    "### help"
   ]
  },
  {
   "cell_type": "markdown",
   "id": "dc8b8f0b-48c7-4f5c-ba1c-36617afd0823",
   "metadata": {},
   "source": [
    "O comando `help()` explica brevemente a classe:"
   ]
  },
  {
   "cell_type": "code",
   "execution_count": 32,
   "id": "65cb4703-22c4-4e12-ad9a-e0e72b71b7be",
   "metadata": {},
   "outputs": [
    {
     "name": "stdout",
     "output_type": "stream",
     "text": [
      "Help on class Conta in module __main__:\n",
      "\n",
      "class Conta(builtins.object)\n",
      " |  Conta(dono: __main__.Pessoa, numero, saldo=0)\n",
      " |  \n",
      " |  Methods defined here:\n",
      " |  \n",
      " |  __init__(self, dono: __main__.Pessoa, numero, saldo=0)\n",
      " |      Initialize self.  See help(type(self)) for accurate signature.\n",
      " |  \n",
      " |  deposita(self, valor)\n",
      " |  \n",
      " |  descreve(self)\n",
      " |  \n",
      " |  ----------------------------------------------------------------------\n",
      " |  Data descriptors defined here:\n",
      " |  \n",
      " |  __dict__\n",
      " |      dictionary for instance variables (if defined)\n",
      " |  \n",
      " |  __weakref__\n",
      " |      list of weak references to the object (if defined)\n",
      "\n"
     ]
    }
   ],
   "source": [
    "help(Conta)"
   ]
  },
  {
   "cell_type": "markdown",
   "id": "32ea3126-217d-4a84-a753-3cd990c1672b",
   "metadata": {},
   "source": [
    "### type\n",
    "\n",
    "O comando `type` diz a qual classe pertence um objeto"
   ]
  },
  {
   "cell_type": "code",
   "execution_count": null,
   "id": "fb680178-75e4-4037-b47c-f968a640cdb3",
   "metadata": {},
   "outputs": [],
   "source": []
  },
  {
   "cell_type": "markdown",
   "id": "266402c2-df8e-4d34-aed6-dc7f50ad31d6",
   "metadata": {},
   "source": [
    "## Extra - exemplo do uso do throw\n",
    "\n",
    "Neste código fizemos a validação do argumento `numero` passando-o à função `int( )`.\n",
    "\n",
    "Caso o argumento não possa ser convertido em inteiro, disparamos uma exceção. "
   ]
  },
  {
   "cell_type": "code",
   "execution_count": 18,
   "id": "9ff2d6ff-fc38-41c8-81a1-1d89bb33d044",
   "metadata": {
    "jupyter": {
     "source_hidden": true
    },
    "tags": []
   },
   "outputs": [],
   "source": [
    "class Conta(object):\n",
    "    def __init__(self, dono,  numero, saldo = 0):\n",
    "        self.titular = dono\n",
    "        self.id = int(numero)\n",
    "\n",
    "        try: \n",
    "            self.saldo = int(saldo)\n",
    "        except:\n",
    "            raise ValueError\n",
    "\n",
    "    def deposita(self, valor):\n",
    "        if valor > 0:\n",
    "            self.saldo += valor\n"
   ]
  },
  {
   "cell_type": "markdown",
   "id": "3ed51fc0-bbc9-4761-b846-6cd81ce019ee",
   "metadata": {},
   "source": [
    "Caso tentássemos passar um argumento que não pode ser convertido em int: \n",
    "```python \n",
    "ce = Conta(\"Ian\", \"7623\", \"chkocol\")\n",
    "```\n",
    "\n",
    "O programa terminaria em erro com a seguinte mensagem: \n",
    "\n",
    "```bash\n",
    "---------------------------------------------------------------------------\n",
    "ValueError                                Traceback (most recent call last)\n",
    "Input In [18], in Conta.__init__(self, dono, numero, saldo)\n",
    "      6 try: \n",
    "----> 7     self.saldo = int(saldo)\n",
    "      8 except:\n",
    "\n",
    "ValueError: invalid literal for int() with base 10: 'chkocol'\n",
    "\n",
    "During handling of the above exception, another exception occurred:\n",
    "\n",
    "ValueError                                Traceback (most recent call last)\n",
    "Input In [19], in <cell line: 1>()\n",
    "----> 1 ce = Conta(\"Ian\", \"7623\", \"chkocol\")\n",
    "\n",
    "Input In [18], in Conta.__init__(self, dono, numero, saldo)\n",
    "      7     self.saldo = int(saldo)\n",
    "      8 except:\n",
    "----> 9     raise ValueError\n",
    "\n",
    "ValueError: \n",
    "```"
   ]
  }
 ],
 "metadata": {
  "kernelspec": {
   "display_name": "Python 3 (ipykernel)",
   "language": "python",
   "name": "python3"
  },
  "language_info": {
   "codemirror_mode": {
    "name": "ipython",
    "version": 3
   },
   "file_extension": ".py",
   "mimetype": "text/x-python",
   "name": "python",
   "nbconvert_exporter": "python",
   "pygments_lexer": "ipython3",
   "version": "3.10.4"
  }
 },
 "nbformat": 4,
 "nbformat_minor": 5
}
