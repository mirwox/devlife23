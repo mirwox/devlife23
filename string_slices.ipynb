{
 "cells": [
  {
   "cell_type": "markdown",
   "id": "4af58de1-c806-4971-87fe-1030840fd4b0",
   "metadata": {},
   "source": [
    "# Exemplos de strings e slices"
   ]
  },
  {
   "cell_type": "markdown",
   "id": "e27c24e5-5351-4661-8f4d-3d31da68d737",
   "metadata": {},
   "source": [
    "# Documentação com help"
   ]
  },
  {
   "cell_type": "markdown",
   "id": "051db3ec-aa0a-49bd-8393-bfe600ab30e5",
   "metadata": {},
   "source": [
    "A função `help` do Python nos mostra  documentação de qualquer recurso da linguagem. Por exemplo, para ver a documentação de string fazemos: "
   ]
  },
  {
   "cell_type": "code",
   "execution_count": 53,
   "id": "b1f9473f-08da-495b-a080-d613fc9db88e",
   "metadata": {},
   "outputs": [],
   "source": [
    "# help(str)"
   ]
  },
  {
   "cell_type": "markdown",
   "id": "eb573e47-b52b-40ff-a718-9b2f06ad4474",
   "metadata": {},
   "source": [
    "## Ordenando listas"
   ]
  },
  {
   "cell_type": "markdown",
   "id": "317dc601-5fea-4167-990f-dccd373c2616",
   "metadata": {},
   "source": [
    "O método `sort()` deve ser chamado a partir do objeto lista e ordena no mesmo local. Dizemos que é sort *in-place*.\n",
    "\n",
    "Ele recebe um argumento `reverse` que determina se a ordenação será em ordem crescente ou decrescente. "
   ]
  },
  {
   "cell_type": "code",
   "execution_count": 11,
   "id": "dcb97ce5-f34b-456b-bdb8-a212bf6d89e3",
   "metadata": {},
   "outputs": [],
   "source": [
    "lista = [5 , 3 , 8, 2, 0, 1]"
   ]
  },
  {
   "cell_type": "code",
   "execution_count": 12,
   "id": "c094b546-925f-4b47-bf3a-ad8aae747bae",
   "metadata": {},
   "outputs": [],
   "source": [
    "lista.sort(reverse=True)"
   ]
  },
  {
   "cell_type": "markdown",
   "id": "42a75168-bda8-4461-b2f3-1d5f96b7a9d9",
   "metadata": {},
   "source": [
    "Note que é o próprio objeto *lista* que apareceu ordenado"
   ]
  },
  {
   "cell_type": "code",
   "execution_count": 13,
   "id": "f04f650c-fb55-4602-aa9b-17d410b1e2b3",
   "metadata": {},
   "outputs": [
    {
     "data": {
      "text/plain": [
       "[8, 5, 3, 2, 1, 0]"
      ]
     },
     "execution_count": 13,
     "metadata": {},
     "output_type": "execute_result"
    }
   ],
   "source": [
    "lista"
   ]
  },
  {
   "cell_type": "code",
   "execution_count": 14,
   "id": "abee96f3-69f0-4c18-b841-c7bde550e662",
   "metadata": {},
   "outputs": [],
   "source": [
    "#help(lista.sort)"
   ]
  },
  {
   "cell_type": "markdown",
   "id": "2cc86cab-5034-42cc-a97b-f8507b90e6f6",
   "metadata": {},
   "source": [
    "## A função *sorted*"
   ]
  },
  {
   "cell_type": "markdown",
   "id": "01874ebc-d9a8-4383-92d4-0ed5583ec4c9",
   "metadata": {},
   "source": [
    "A função `sorted` faz parte do Python, recebe uma lista e devolve uma nova lista com seus elementos ordenados."
   ]
  },
  {
   "cell_type": "code",
   "execution_count": 15,
   "id": "19a55604-00cf-418a-b258-b3d8e5fe2c6b",
   "metadata": {},
   "outputs": [],
   "source": [
    "lista2 = [5 , 3 , 8, 2, 0, 1]"
   ]
  },
  {
   "cell_type": "code",
   "execution_count": 18,
   "id": "55665c4d-a999-42c8-a6f7-8661e34a0a34",
   "metadata": {},
   "outputs": [],
   "source": [
    "saida = sorted(lista2)"
   ]
  },
  {
   "cell_type": "markdown",
   "id": "66d9bbf6-d6a8-41f3-8d4d-936d70a6a887",
   "metadata": {},
   "source": [
    "Notem que a nova lista `saida` vem ordenada"
   ]
  },
  {
   "cell_type": "code",
   "execution_count": 19,
   "id": "387d88e2-7691-455c-b35d-76a47d069c81",
   "metadata": {},
   "outputs": [
    {
     "data": {
      "text/plain": [
       "[0, 1, 2, 3, 5, 8]"
      ]
     },
     "execution_count": 19,
     "metadata": {},
     "output_type": "execute_result"
    }
   ],
   "source": [
    "saida"
   ]
  },
  {
   "cell_type": "markdown",
   "id": "7ff02bda-4eb5-4648-87b3-564b1f9df2fb",
   "metadata": {},
   "source": [
    "E a estrutura original `lista2`  ainda está inalterada"
   ]
  },
  {
   "cell_type": "code",
   "execution_count": 17,
   "id": "e47d46d7-518b-45d8-a5d0-0433134d5349",
   "metadata": {},
   "outputs": [
    {
     "data": {
      "text/plain": [
       "[5, 3, 8, 2, 0, 1]"
      ]
     },
     "execution_count": 17,
     "metadata": {},
     "output_type": "execute_result"
    }
   ],
   "source": [
    "lista2"
   ]
  },
  {
   "cell_type": "markdown",
   "id": "9224e059-e56b-4ecc-803c-191d59f806c0",
   "metadata": {},
   "source": [
    "## Método find"
   ]
  },
  {
   "cell_type": "code",
   "execution_count": 24,
   "id": "0bfee2d5-5b5c-4660-ac1a-4d50a8566602",
   "metadata": {},
   "outputs": [],
   "source": [
    "frase = \"you never never  give me your money\""
   ]
  },
  {
   "cell_type": "code",
   "execution_count": 25,
   "id": "b5e5c4c5-c2ca-4303-b87c-f2d252fcb856",
   "metadata": {},
   "outputs": [
    {
     "data": {
      "text/plain": [
       "4"
      ]
     },
     "execution_count": 25,
     "metadata": {},
     "output_type": "execute_result"
    }
   ],
   "source": [
    "frase.find(\"never\")"
   ]
  },
  {
   "cell_type": "code",
   "execution_count": 26,
   "id": "1262b56f-dd37-4aa0-90d7-fa778779146b",
   "metadata": {},
   "outputs": [
    {
     "name": "stdout",
     "output_type": "stream",
     "text": [
      "Help on built-in function find:\n",
      "\n",
      "find(...) method of builtins.str instance\n",
      "    S.find(sub[, start[, end]]) -> int\n",
      "    \n",
      "    Return the lowest index in S where substring sub is found,\n",
      "    such that sub is contained within S[start:end].  Optional\n",
      "    arguments start and end are interpreted as in slice notation.\n",
      "    \n",
      "    Return -1 on failure.\n",
      "\n"
     ]
    }
   ],
   "source": [
    "help(frase.find)"
   ]
  },
  {
   "cell_type": "code",
   "execution_count": 29,
   "id": "6b05f4ab-ec5e-4c75-98af-0ba99038e0b9",
   "metadata": {},
   "outputs": [
    {
     "data": {
      "text/plain": [
       "10"
      ]
     },
     "execution_count": 29,
     "metadata": {},
     "output_type": "execute_result"
    }
   ],
   "source": [
    "frase.find(\"never\", 5)"
   ]
  },
  {
   "cell_type": "code",
   "execution_count": 31,
   "id": "ef42854f-b446-4ea7-b11e-6ba9f83b5fc2",
   "metadata": {},
   "outputs": [],
   "source": [
    "# help(frase.findall)"
   ]
  },
  {
   "cell_type": "markdown",
   "id": "586b0e14-89bf-4a13-8189-2d6b3e4feb48",
   "metadata": {},
   "source": [
    "## Método replace"
   ]
  },
  {
   "cell_type": "markdown",
   "id": "57aef125-6480-4e2b-947a-c4dd3a13ff16",
   "metadata": {},
   "source": []
  },
  {
   "cell_type": "code",
   "execution_count": 40,
   "id": "6cdae8eb-7d66-45e4-a1d1-6ccbc70bb758",
   "metadata": {},
   "outputs": [],
   "source": [
    "frase_2 = \"ai se eu te pego pego pego\""
   ]
  },
  {
   "cell_type": "code",
   "execution_count": 43,
   "id": "d7523bbc-f587-4a81-9ea7-a1db7f49cc03",
   "metadata": {},
   "outputs": [
    {
     "data": {
      "text/plain": [
       "'ai se eu te ajudo ajudo pego'"
      ]
     },
     "execution_count": 43,
     "metadata": {},
     "output_type": "execute_result"
    }
   ],
   "source": [
    "frase_2.replace(\"pego\", \"ajudo\", 2)"
   ]
  },
  {
   "cell_type": "code",
   "execution_count": 44,
   "id": "9fbecb59-d156-4cea-91d9-9958e4f17f42",
   "metadata": {},
   "outputs": [
    {
     "name": "stdout",
     "output_type": "stream",
     "text": [
      "Help on built-in function replace:\n",
      "\n",
      "replace(old, new, count=-1, /) method of builtins.str instance\n",
      "    Return a copy with all occurrences of substring old replaced by new.\n",
      "    \n",
      "      count\n",
      "        Maximum number of occurrences to replace.\n",
      "        -1 (the default value) means replace all occurrences.\n",
      "    \n",
      "    If the optional argument count is given, only the first count occurrences are\n",
      "    replaced.\n",
      "\n"
     ]
    }
   ],
   "source": [
    "help(frase_2.replace)"
   ]
  },
  {
   "cell_type": "markdown",
   "id": "4de53786-38ce-4e20-aa6f-a0db554c0da1",
   "metadata": {},
   "source": [
    "## Método strip()"
   ]
  },
  {
   "cell_type": "code",
   "execution_count": 45,
   "id": "0a2ea12b-cb01-445c-b7a9-88000b7b5b7c",
   "metadata": {},
   "outputs": [],
   "source": [
    "zoada = \"\"\"\t\t\t\t\t     oi bom dia\t    \n",
    "\n",
    "\n",
    "\t\t\t\t\"\"\"\n"
   ]
  },
  {
   "cell_type": "code",
   "execution_count": 46,
   "id": "365b64de-86f9-42ec-921e-1c49e44028d4",
   "metadata": {},
   "outputs": [],
   "source": [
    "limpa = zoada.strip()"
   ]
  },
  {
   "cell_type": "code",
   "execution_count": 51,
   "id": "bfc0bb8b-e3d6-46de-a569-c6f9648aef1e",
   "metadata": {},
   "outputs": [
    {
     "name": "stdout",
     "output_type": "stream",
     "text": [
      "Help on built-in function strip:\n",
      "\n",
      "strip(chars=None, /) method of builtins.str instance\n",
      "    Return a copy of the string with leading and trailing whitespace removed.\n",
      "    \n",
      "    If chars is given and not None, remove characters in chars instead.\n",
      "\n"
     ]
    }
   ],
   "source": [
    "#help(zoada.strip)"
   ]
  },
  {
   "cell_type": "code",
   "execution_count": 47,
   "id": "db337c32-9210-4d7e-8e38-53c252a3787a",
   "metadata": {},
   "outputs": [
    {
     "data": {
      "text/plain": [
       "'oi bom dia'"
      ]
     },
     "execution_count": 47,
     "metadata": {},
     "output_type": "execute_result"
    }
   ],
   "source": [
    "limpa"
   ]
  },
  {
   "cell_type": "markdown",
   "id": "848bcb6a-c6da-46ac-ba50-676e8239657e",
   "metadata": {},
   "source": [
    "## Método split"
   ]
  },
  {
   "cell_type": "code",
   "execution_count": 54,
   "id": "c5aea92c-b2f2-4efb-a58f-aca706e60dda",
   "metadata": {},
   "outputs": [],
   "source": [
    "pagode = \"\"\"\n",
    "É coisa de pele, um lance criminoso\n",
    "Um frio na barriga, arrepio no corpo\n",
    "Longe do mundo inteiro\n",
    "Amor do nosso jeito\n",
    "Deixa em off\n",
    "Off, o nosso amor é mais gostoso em off\n",
    "Proibido, escondido em off\n",
    "Só eu e você perdido em love\n",
    "Deixa em off\n",
    "\"\"\""
   ]
  },
  {
   "cell_type": "code",
   "execution_count": 67,
   "id": "81f7c6a0-e6e6-484e-9549-6c1e68fac0ec",
   "metadata": {},
   "outputs": [],
   "source": [
    "pagode = pagode.strip()"
   ]
  },
  {
   "cell_type": "code",
   "execution_count": 72,
   "id": "604355f1-ce44-4a4e-b52a-9bf080880e2e",
   "metadata": {},
   "outputs": [
    {
     "name": "stdout",
     "output_type": "stream",
     "text": [
      "Help on built-in function split:\n",
      "\n",
      "split(sep=None, maxsplit=-1) method of builtins.str instance\n",
      "    Return a list of the words in the string, using sep as the delimiter string.\n",
      "    \n",
      "    sep\n",
      "      The delimiter according which to split the string.\n",
      "      None (the default value) means split according to any whitespace,\n",
      "      and discard empty strings from the result.\n",
      "    maxsplit\n",
      "      Maximum number of splits to do.\n",
      "      -1 (the default value) means no limit.\n",
      "\n"
     ]
    }
   ],
   "source": [
    "help(pagode.split)"
   ]
  },
  {
   "cell_type": "code",
   "execution_count": 79,
   "id": "c90e835c-bae3-4e40-85bc-4681c3c0df15",
   "metadata": {},
   "outputs": [],
   "source": [
    "#pgd = pagode.split(sep = \"\\n\")\n",
    "pgd = pagode.split()"
   ]
  },
  {
   "cell_type": "code",
   "execution_count": 80,
   "id": "f9426792-9d7b-42b8-92b7-d73f568edccc",
   "metadata": {},
   "outputs": [
    {
     "data": {
      "text/plain": [
       "['É',\n",
       " 'coisa',\n",
       " 'de',\n",
       " 'pele,',\n",
       " 'um',\n",
       " 'lance',\n",
       " 'criminoso',\n",
       " 'Um',\n",
       " 'frio',\n",
       " 'na',\n",
       " 'barriga,',\n",
       " 'arrepio',\n",
       " 'no',\n",
       " 'corpo',\n",
       " 'Longe',\n",
       " 'do',\n",
       " 'mundo',\n",
       " 'inteiro',\n",
       " 'Amor',\n",
       " 'do',\n",
       " 'nosso',\n",
       " 'jeito',\n",
       " 'Deixa',\n",
       " 'em',\n",
       " 'off',\n",
       " 'Off,',\n",
       " 'o',\n",
       " 'nosso',\n",
       " 'amor',\n",
       " 'é',\n",
       " 'mais',\n",
       " 'gostoso',\n",
       " 'em',\n",
       " 'off',\n",
       " 'Proibido,',\n",
       " 'escondido',\n",
       " 'em',\n",
       " 'off',\n",
       " 'Só',\n",
       " 'eu',\n",
       " 'e',\n",
       " 'você',\n",
       " 'perdido',\n",
       " 'em',\n",
       " 'love',\n",
       " 'Deixa',\n",
       " 'em',\n",
       " 'off']"
      ]
     },
     "execution_count": 80,
     "metadata": {},
     "output_type": "execute_result"
    }
   ],
   "source": [
    "pgd"
   ]
  },
  {
   "cell_type": "code",
   "execution_count": 81,
   "id": "ad0e8062-e7eb-4357-9c31-ab26f5ad76ba",
   "metadata": {},
   "outputs": [
    {
     "name": "stdout",
     "output_type": "stream",
     "text": [
      "É|||coisa|||de|||pele,|||um|||lance|||criminoso|||Um|||frio|||na|||barriga,|||arrepio|||no|||corpo|||Longe|||do|||mundo|||inteiro|||Amor|||do|||nosso|||jeito|||Deixa|||em|||off|||Off,|||o|||nosso|||amor|||é|||mais|||gostoso|||em|||off|||Proibido,|||escondido|||em|||off|||Só|||eu|||e|||você|||perdido|||em|||love|||Deixa|||em|||off|||"
     ]
    }
   ],
   "source": [
    "for p in pgd:\n",
    "    print(p, end = \"|||\")"
   ]
  },
  {
   "cell_type": "markdown",
   "id": "60671881-a22e-444e-bccd-4c61ce79fe11",
   "metadata": {},
   "source": [
    "## Caracteres e português"
   ]
  },
  {
   "cell_type": "code",
   "execution_count": 82,
   "id": "488cc37c-34c7-477f-8351-b16c29d13df6",
   "metadata": {},
   "outputs": [],
   "source": [
    "panda = \"🐼\""
   ]
  },
  {
   "cell_type": "code",
   "execution_count": 83,
   "id": "e0155072-2e7f-4902-8c29-98934d97c6d5",
   "metadata": {},
   "outputs": [
    {
     "data": {
      "text/plain": [
       "'🐼🐼🐼🐼🐼'"
      ]
     },
     "execution_count": 83,
     "metadata": {},
     "output_type": "execute_result"
    }
   ],
   "source": [
    "\"🐼\"*5"
   ]
  },
  {
   "cell_type": "markdown",
   "id": "512a6f0c-5193-4373-9c11-cb33a39e4c61",
   "metadata": {
    "tags": []
   },
   "source": [
    "## Método Join"
   ]
  },
  {
   "cell_type": "code",
   "execution_count": 84,
   "id": "70e774dd-581b-496d-a063-d4ee76566c20",
   "metadata": {},
   "outputs": [
    {
     "data": {
      "text/plain": [
       "'É🐼coisa🐼de🐼pele,🐼um🐼lance🐼criminoso🐼Um🐼frio🐼na🐼barriga,🐼arrepio🐼no🐼corpo🐼Longe🐼do🐼mundo🐼inteiro🐼Amor🐼do🐼nosso🐼jeito🐼Deixa🐼em🐼off🐼Off,🐼o🐼nosso🐼amor🐼é🐼mais🐼gostoso🐼em🐼off🐼Proibido,🐼escondido🐼em🐼off🐼Só🐼eu🐼e🐼você🐼perdido🐼em🐼love🐼Deixa🐼em🐼off'"
      ]
     },
     "execution_count": 84,
     "metadata": {},
     "output_type": "execute_result"
    }
   ],
   "source": [
    "\"🐼\".join(pgd)"
   ]
  },
  {
   "cell_type": "markdown",
   "id": "8ea8c295-63f8-4283-b532-eca104efc3e4",
   "metadata": {},
   "source": [
    "## Converter string em lista"
   ]
  },
  {
   "cell_type": "code",
   "execution_count": 86,
   "id": "59436f1f-4643-420e-bdb9-4799a651977e",
   "metadata": {},
   "outputs": [],
   "source": [
    "lista_frase = list(frase)"
   ]
  },
  {
   "cell_type": "code",
   "execution_count": 87,
   "id": "758fa48f-ded8-4102-8169-cf4270bc0993",
   "metadata": {},
   "outputs": [
    {
     "data": {
      "text/plain": [
       "['y',\n",
       " 'o',\n",
       " 'u',\n",
       " ' ',\n",
       " 'n',\n",
       " 'e',\n",
       " 'v',\n",
       " 'e',\n",
       " 'r',\n",
       " ' ',\n",
       " 'n',\n",
       " 'e',\n",
       " 'v',\n",
       " 'e',\n",
       " 'r',\n",
       " ' ',\n",
       " ' ',\n",
       " 'g',\n",
       " 'i',\n",
       " 'v',\n",
       " 'e',\n",
       " ' ',\n",
       " 'm',\n",
       " 'e',\n",
       " ' ',\n",
       " 'y',\n",
       " 'o',\n",
       " 'u',\n",
       " 'r',\n",
       " ' ',\n",
       " 'm',\n",
       " 'o',\n",
       " 'n',\n",
       " 'e',\n",
       " 'y']"
      ]
     },
     "execution_count": 87,
     "metadata": {},
     "output_type": "execute_result"
    }
   ],
   "source": [
    "lista_frase"
   ]
  },
  {
   "cell_type": "markdown",
   "id": "d06a3e8e-03e6-40b6-9840-3bb3492938be",
   "metadata": {},
   "source": [
    "# Slices"
   ]
  },
  {
   "cell_type": "code",
   "execution_count": 88,
   "id": "3de96881-f4a6-4f9e-88a8-4847aba3bed1",
   "metadata": {},
   "outputs": [],
   "source": [
    "lsl = [7, 13, 19, 15, 6]"
   ]
  },
  {
   "cell_type": "markdown",
   "id": "d80732b3-81d4-472a-998c-3fe2ba26a793",
   "metadata": {},
   "source": [
    "Índices convencionais retornam só uma posição"
   ]
  },
  {
   "cell_type": "code",
   "execution_count": 101,
   "id": "ae42b9dd-169c-4586-a23d-fde5157cd7ae",
   "metadata": {},
   "outputs": [
    {
     "data": {
      "text/plain": [
       "19"
      ]
     },
     "execution_count": 101,
     "metadata": {},
     "output_type": "execute_result"
    }
   ],
   "source": [
    "lsl[2]"
   ]
  },
  {
   "cell_type": "markdown",
   "id": "eee5fe20-293a-4c44-8cc9-5903e7db0e05",
   "metadata": {},
   "source": [
    "Slides retornam do primeiro elemento até *antes* do segundo. Por exemplo no exemplo abaixo vai retornar\n",
    "os elementos de 0 até antes do 2"
   ]
  },
  {
   "cell_type": "code",
   "execution_count": 90,
   "id": "1277575e-08af-45fc-9a1e-7a06e33c92cf",
   "metadata": {},
   "outputs": [
    {
     "data": {
      "text/plain": [
       "[7, 13]"
      ]
     },
     "execution_count": 90,
     "metadata": {},
     "output_type": "execute_result"
    }
   ],
   "source": [
    "lsl[0:2]"
   ]
  },
  {
   "cell_type": "markdown",
   "id": "f35c27f1-128b-4c12-9ae0-bd9df7ff5466",
   "metadata": {},
   "source": [
    "Quando usamos a notação **:**  o slice entende \"vá do início ao fim de lista\""
   ]
  },
  {
   "cell_type": "code",
   "execution_count": 91,
   "id": "d209576b-b2aa-4f53-9003-405e1e40878f",
   "metadata": {},
   "outputs": [
    {
     "data": {
      "text/plain": [
       "[7, 13, 19, 15, 6]"
      ]
     },
     "execution_count": 91,
     "metadata": {},
     "output_type": "execute_result"
    }
   ],
   "source": [
    "lsl[:]"
   ]
  },
  {
   "cell_type": "markdown",
   "id": "0e751f0d-12c4-4e3d-a3dd-13f9a16fddce",
   "metadata": {},
   "source": [
    "O índice $-1$ é um atalho para o último elemento da lista"
   ]
  },
  {
   "cell_type": "code",
   "execution_count": 92,
   "id": "9d21cf78-d5a0-4f18-8422-6ec16caeabd2",
   "metadata": {},
   "outputs": [
    {
     "data": {
      "text/plain": [
       "6"
      ]
     },
     "execution_count": 92,
     "metadata": {},
     "output_type": "execute_result"
    }
   ],
   "source": [
    "lsl[-1]"
   ]
  },
  {
   "cell_type": "markdown",
   "id": "4b2c80ca-8a37-4970-b23a-c2c365c591dc",
   "metadata": {},
   "source": [
    "O exemlo abaixo significa: vá desde o último elemento, até o elemento zero, com passo de tamanho $-1$. Ou seja: ande para trás do fim para o começo"
   ]
  },
  {
   "cell_type": "code",
   "execution_count": 94,
   "id": "66c81dd7-e77f-438a-8d9e-6f936517932b",
   "metadata": {},
   "outputs": [
    {
     "data": {
      "text/plain": [
       "[6, 15, 19, 13]"
      ]
     },
     "execution_count": 94,
     "metadata": {},
     "output_type": "execute_result"
    }
   ],
   "source": [
    "lsl[-1:0:-1]"
   ]
  },
  {
   "cell_type": "markdown",
   "id": "2db80cd7-77f0-458d-8a38-0c3f20120e01",
   "metadata": {},
   "source": [
    "O exemplo abaixo significa: vá do início até o fim andando de 2 em 2"
   ]
  },
  {
   "cell_type": "code",
   "execution_count": 100,
   "id": "2de9b4bc-f51d-48f6-80f2-1863a8c25f77",
   "metadata": {},
   "outputs": [
    {
     "data": {
      "text/plain": [
       "[7, 19, 6]"
      ]
     },
     "execution_count": 100,
     "metadata": {},
     "output_type": "execute_result"
    }
   ],
   "source": [
    "lsl[::2]"
   ]
  },
  {
   "cell_type": "code",
   "execution_count": 96,
   "id": "ad45ff97-3570-45cb-824c-417a2fb87885",
   "metadata": {},
   "outputs": [
    {
     "data": {
      "text/plain": [
       "[7]"
      ]
     },
     "execution_count": 96,
     "metadata": {},
     "output_type": "execute_result"
    }
   ],
   "source": [
    "lsl[0:1]"
   ]
  },
  {
   "cell_type": "code",
   "execution_count": 97,
   "id": "6ef6b3c5-dce8-4077-84a8-04bfd68ecb2b",
   "metadata": {},
   "outputs": [
    {
     "data": {
      "text/plain": [
       "[7, 13, 19]"
      ]
     },
     "execution_count": 97,
     "metadata": {},
     "output_type": "execute_result"
    }
   ],
   "source": [
    "lsl[0:3]"
   ]
  },
  {
   "cell_type": "code",
   "execution_count": 98,
   "id": "23bbe20d-fa36-43db-8d99-1dfe9d862c3f",
   "metadata": {},
   "outputs": [
    {
     "data": {
      "text/plain": [
       "15"
      ]
     },
     "execution_count": 98,
     "metadata": {},
     "output_type": "execute_result"
    }
   ],
   "source": [
    "lsl[3]"
   ]
  },
  {
   "cell_type": "code",
   "execution_count": null,
   "id": "923b6ab0-f38e-4a7f-b034-99255304e0d8",
   "metadata": {},
   "outputs": [],
   "source": []
  }
 ],
 "metadata": {
  "kernelspec": {
   "display_name": "Python 3 (ipykernel)",
   "language": "python",
   "name": "python3"
  },
  "language_info": {
   "codemirror_mode": {
    "name": "ipython",
    "version": 3
   },
   "file_extension": ".py",
   "mimetype": "text/x-python",
   "name": "python",
   "nbconvert_exporter": "python",
   "pygments_lexer": "ipython3",
   "version": "3.10.4"
  }
 },
 "nbformat": 4,
 "nbformat_minor": 5
}
